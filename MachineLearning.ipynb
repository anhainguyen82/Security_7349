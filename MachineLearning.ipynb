{
 "cells": [
  {
   "cell_type": "code",
   "execution_count": 20,
   "metadata": {},
   "outputs": [],
   "source": [
    "import pandas\n",
    "import numpy\n",
    "import datetime\n",
    "\n",
    "risk = pandas.read_csv('Term_Dataset.csv', index_col=0) \n",
    "\n",
    "risk_cat = {'High Risk':3, 'Moderate Risk': 2, 'Low Risk':1}\n",
    "risk.risk_category = risk.risk_category.replace(risk_cat)\n",
    "d = datetime.date.today()\n",
    "pandas.to_datetime(risk['inspection_date'])\n",
    "\n",
    "risk = risk[['inspection_score', 'violation_id', 'business_postal_code', 'risk_category']].copy()\n",
    "\n",
    "risk = risk.dropna()\n",
    "\n",
    "if 'risk_category' in risk:\n",
    "    #Response variable is 'RainTomorrow'\n",
    "    y = risk['risk_category'].values\n",
    "    \n",
    "    #Remove response variable from dataframe\n",
    "    del risk['risk_category']\n",
    "    \n",
    "    #Everything else is the explanatory variables used in prediction.\n",
    "    x = risk.values"
   ]
  },
  {
   "cell_type": "code",
   "execution_count": 21,
   "metadata": {},
   "outputs": [
    {
     "name": "stdout",
     "output_type": "stream",
     "text": [
      "<class 'pandas.core.frame.DataFrame'>\n",
      "Int64Index: 3790 entries, 300 to 81667\n",
      "Data columns (total 3 columns):\n",
      "inspection_score        3790 non-null float64\n",
      "violation_id            3790 non-null object\n",
      "business_postal_code    3790 non-null object\n",
      "dtypes: float64(1), object(2)\n",
      "memory usage: 118.4+ KB\n"
     ]
    }
   ],
   "source": [
    "risk.info()"
   ]
  },
  {
   "cell_type": "code",
   "execution_count": 44,
   "metadata": {},
   "outputs": [
    {
     "data": {
      "text/plain": [
       "business_id\n",
       "300      94109\n",
       "72164    94109\n",
       "76725    94109\n",
       "66679    94133\n",
       "2766     94112\n",
       "76615    94134\n",
       "6734     94133\n",
       "272      94115\n",
       "60355    94102\n",
       "17779    94112\n",
       "35659    94111\n",
       "2497     94123\n",
       "835      94133\n",
       "69512    94109\n",
       "77547    94108\n",
       "3816     94108\n",
       "65139    94108\n",
       "83640    94134\n",
       "33564    94115\n",
       "79206    94104\n",
       "82339    94102\n",
       "10282    94118\n",
       "67149    94123\n",
       "320      94109\n",
       "79272    94109\n",
       "80236    94109\n",
       "1973     94121\n",
       "3048     94109\n",
       "3309     94109\n",
       "79782    94110\n",
       "         ...  \n",
       "1854     94104\n",
       "67554    94112\n",
       "84887    94134\n",
       "92611    94102\n",
       "3016     94108\n",
       "4986     94116\n",
       "80554    94143\n",
       "3951     94121\n",
       "69199    94105\n",
       "2325     94117\n",
       "90067    94105\n",
       "3839     94110\n",
       "77185    94107\n",
       "985      94116\n",
       "78779    94102\n",
       "93469    94132\n",
       "93607    94112\n",
       "2797     94109\n",
       "39776    94110\n",
       "7636     94124\n",
       "1992     94112\n",
       "2622     94134\n",
       "5025     94110\n",
       "82134    94131\n",
       "64612    94112\n",
       "80493    94117\n",
       "91331    94108\n",
       "17779    94112\n",
       "78669    94103\n",
       "81667    94112\n",
       "Name: business_postal_code, Length: 3790, dtype: object"
      ]
     },
     "execution_count": 44,
     "metadata": {},
     "output_type": "execute_result"
    }
   ],
   "source": [
    "risk['business_postal_code']"
   ]
  },
  {
   "cell_type": "code",
   "execution_count": null,
   "metadata": {},
   "outputs": [],
   "source": []
  }
 ],
 "metadata": {
  "kernelspec": {
   "display_name": "Python 3",
   "language": "python",
   "name": "python3"
  },
  "language_info": {
   "codemirror_mode": {
    "name": "ipython",
    "version": 3
   },
   "file_extension": ".py",
   "mimetype": "text/x-python",
   "name": "python",
   "nbconvert_exporter": "python",
   "pygments_lexer": "ipython3",
   "version": "3.7.0"
  }
 },
 "nbformat": 4,
 "nbformat_minor": 2
}
